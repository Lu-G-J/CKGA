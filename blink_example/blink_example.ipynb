{
 "cells": [
  {
   "cell_type": "markdown",
   "metadata": {},
   "source": [
    "#### 1. Use BLINK to map the aspects to wikipedia (wiki_id)"
   ]
  },
  {
   "cell_type": "markdown",
   "metadata": {},
   "source": [
    "##### An example : \"Did not enjoy the new **Windows 8** touchscreen functions.\""
   ]
  },
  {
   "cell_type": "code",
   "execution_count": 1,
   "metadata": {},
   "outputs": [],
   "source": [
    "import blink.main_dense as main_dense\n",
    "import argparse"
   ]
  },
  {
   "cell_type": "code",
   "execution_count": 2,
   "metadata": {},
   "outputs": [],
   "source": [
    "models_path = \"models/\" # the path where you stored the BLINK models\n",
    "\n",
    "config = {\n",
    "    \"test_entities\": None,\n",
    "    \"test_mentions\": None,\n",
    "    \"interactive\": False,\n",
    "    \"top_k\": 10,\n",
    "    \"biencoder_model\": models_path+\"biencoder_wiki_large.bin\",\n",
    "    \"biencoder_config\": models_path+\"biencoder_wiki_large.json\",\n",
    "    \"entity_catalogue\": models_path+\"entity.jsonl\",\n",
    "    \"entity_encoding\": models_path+\"all_entities_large.t7\",\n",
    "    \"crossencoder_model\": models_path+\"crossencoder_wiki_large.bin\",\n",
    "    \"crossencoder_config\": models_path+\"crossencoder_wiki_large.json\",\n",
    "    \"fast\": True, # set this to be true if speed is a concern\n",
    "    \"output_path\": \"logs/\" # logging directory\n",
    "}\n",
    "\n",
    "args = argparse.Namespace(**config)\n",
    "\n",
    "models = main_dense.load_models(args, logger=None)"
   ]
  },
  {
   "cell_type": "code",
   "execution_count": 8,
   "metadata": {},
   "outputs": [
    {
     "name": "stderr",
     "output_type": "stream",
     "text": [
      "100%|██████████| 1/1 [00:01<00:00,  1.44s/it]\n"
     ]
    }
   ],
   "source": [
    "data_to_link = []\n",
    "context_left = \"Did not enjoy the new \".lower()\n",
    "context_right = \" touchscreen functions.\".lower()\n",
    "aspect = \"Windows 8\".lower()\n",
    "\n",
    "process_data = {\n",
    "    \"id\": 1,\n",
    "    \"label\": \"unknown\",\n",
    "    \"label_id\": -1,\n",
    "    \"context_left\": context_left,\n",
    "    \"mention\": aspect,\n",
    "    \"context_right\":context_right,\n",
    "}\n",
    "data_to_link.append(process_data)    \n",
    "_, _, _, _, _,predictions, scores, = main_dense.run(args, None, *models, test_data=data_to_link)"
   ]
  },
  {
   "cell_type": "code",
   "execution_count": 17,
   "metadata": {},
   "outputs": [
    {
     "name": "stdout",
     "output_type": "stream",
     "text": [
      "predictions :  [['Windows 8', 'Mac OS 8', 'Internet Explorer 8', 'Windows Phone 8', 'Windows 8.1', 'Windows 8 editions', 'IOS 8', 'Windows 8.x', 'Features new to Windows 8', 'IT8']]\n",
      "scores :  [array([85.2276  , 81.668175, 81.086365, 81.07576 , 80.64415 , 80.434105,\n",
      "       79.99263 , 79.93738 , 79.8428  , 79.51455 ], dtype=float32)]\n"
     ]
    }
   ],
   "source": [
    "print('predictions : ', predictions)\n",
    "print('scores : ', scores)"
   ]
  },
  {
   "cell_type": "code",
   "execution_count": 16,
   "metadata": {},
   "outputs": [
    {
     "name": "stdout",
     "output_type": "stream",
     "text": [
      "entity_id: 2912299\n",
      "wiki_id 24806506\n"
     ]
    }
   ],
   "source": [
    "entity_id = models[5][predictions[0][0]] # get the local_id from blink\n",
    "wikipedia_id2local_id = models[8]\n",
    "local_id2wikipedia_id = {value : key for key, value in wikipedia_id2local_id.items()} \n",
    "wiki_id = local_id2wikipedia_id[entity_id] # change local_id to wiki_id\n",
    "print('entity_id:', entity_id)\n",
    "print('wiki_id', wiki_id)"
   ]
  },
  {
   "cell_type": "markdown",
   "metadata": {},
   "source": [
    "#### 2. After getting the wiki_id of aspects, obtain the corresponding neighbors from dbpedia"
   ]
  },
  {
   "cell_type": "code",
   "execution_count": 13,
   "metadata": {},
   "outputs": [],
   "source": [
    "import requests\n",
    "from SPARQLWrapper import SPARQLWrapper, JSON\n",
    "\n",
    "def downloadByUrl(url, downloadPath, timeout=60):\n",
    "    down_res = requests.get(url=url,timeout=(timeout-10,timeout))\n",
    "\n",
    "    with open(downloadPath,\"wb\") as code:\n",
    "        code.write(down_res.content)\n",
    "\n",
    "def downloadByID(wikiId):\n",
    "    sparql = SPARQLWrapper(\"http://dbpedia.org/sparql\")\n",
    "    query = \"SELECT ?thing { ?thing dbo:wikiPageID \" + str(wikiId) + \"}\"\n",
    "    try:\n",
    "        sparql.setQuery(query)\n",
    "        sparql.setReturnFormat(JSON)\n",
    "        sparql.setTimeout(60)\n",
    "        results = sparql.query().convert()\n",
    "        print(results)\n",
    "        dbpediaUrl = results[\"results\"][\"bindings\"][0][\"thing\"][\"value\"]\n",
    "        dbpediaCsvUrl = 'https://dbpedia.org/data/'+dbpediaUrl.split('/')[-1]+'.ntriples'\n",
    "\n",
    "    except Exception as e:\n",
    "        print(e)\n",
    "\n",
    "    downloadPath = './' + f\"{dbpediaUrl.split('/')[-1]}.csv\"\n",
    "    downloadByUrl(dbpediaCsvUrl, downloadPath)\n",
    "    return downloadPath"
   ]
  },
  {
   "cell_type": "markdown",
   "metadata": {},
   "source": [
    "##### Triplets of Windows_8 : "
   ]
  },
  {
   "cell_type": "code",
   "execution_count": 14,
   "metadata": {},
   "outputs": [
    {
     "name": "stdout",
     "output_type": "stream",
     "text": [
      "{'head': {'link': [], 'vars': ['thing']}, 'results': {'distinct': False, 'ordered': True, 'bindings': [{'thing': {'type': 'uri', 'value': 'http://dbpedia.org/resource/Windows_8'}}]}}\n",
      "['<http://dbpedia.org/resource/Windows_8>\\t<http://dbpedia.org/property/wikiPageUsesTemplate>\\t<http://dbpedia.org/resource/Template:Infobox_OS> .\\n', '<http://dbpedia.org/resource/Windows_8>\\t<http://www.w3.org/2002/07/owl#sameAs>\\t<http://cs.dbpedia.org/resource/Windows_8> .\\n', '<http://dbpedia.org/resource/Windows_8>\\t<http://dbpedia.org/ontology/wikiPageWikiLink>\\t<http://dbpedia.org/resource/DVD> .\\n', '<http://dbpedia.org/resource/Windows_8>\\t<http://dbpedia.org/ontology/wikiPageWikiLink>\\t<http://dbpedia.org/resource/X64> .\\n', '<http://dbpedia.org/resource/Windows_8>\\t<http://www.w3.org/2000/01/rdf-schema#label>\\t\"Windows 8\"@ru .\\n']\n"
     ]
    }
   ],
   "source": [
    "path = downloadByID(wiki_id) # download \n",
    "with open(path, 'r', encoding='utf-8') as f:\n",
    "    lines = f.readlines()\n",
    "print(lines[10:15])"
   ]
  }
 ],
 "metadata": {
  "kernelspec": {
   "display_name": "Python 3.8.3 ('base': conda)",
   "language": "python",
   "name": "python3"
  },
  "language_info": {
   "codemirror_mode": {
    "name": "ipython",
    "version": 3
   },
   "file_extension": ".py",
   "mimetype": "text/x-python",
   "name": "python",
   "nbconvert_exporter": "python",
   "pygments_lexer": "ipython3",
   "version": "3.8.3"
  },
  "orig_nbformat": 4,
  "vscode": {
   "interpreter": {
    "hash": "0d931657f8858ac28e9aaed952a72b6ee33c80e6eba26d255eafd4a93893c915"
   }
  }
 },
 "nbformat": 4,
 "nbformat_minor": 2
}
